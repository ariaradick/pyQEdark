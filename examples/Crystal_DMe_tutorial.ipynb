{
  "cells": [
    {
      "cell_type": "code",
      "execution_count": 1,
      "metadata": {
        "collapsed": true,
        "jupyter": {
          "outputs_hidden": false,
          "source_hidden": false
        },
        "nteract": {
          "transient": {
            "deleting": false
          }
        }
      },
      "outputs": [
        {
          "data": {
            "text/plain": [
              "{'divide': 'warn', 'over': 'warn', 'under': 'ignore', 'invalid': 'warn'}"
            ]
          },
          "execution_count": 1,
          "metadata": {},
          "output_type": "execute_result"
        }
      ],
      "source": [
        "\n",
        "import numpy as np\n",
        "import matplotlib.pyplot as plt\n",
        "\n",
        "params = {'text.usetex' : True, \\\n",
        "          'font.size' : 14, \\\n",
        "          'font.family' : 'cmr10'}#, \\\n",
        "          #'figure.autolayout': True}\n",
        "plt.rcParams.update(params)\n",
        "plt.rcParams['axes.unicode_minus']=False\n",
        "plt.rcParams['axes.labelsize']=16\n",
        "np.seterr(divide='ignore')\n"
      ]
    },
    {
      "cell_type": "markdown",
      "metadata": {
        "nteract": {
          "transient": {
            "deleting": false
          }
        }
      },
      "source": [
        "\n",
        "#About Crystal_DMe:\n",
        "\n",
        "Crystal_DMe is a class that conveniently stores regularly-used values for the\n",
        "calculation of rates and cross-sections for DM-electron scattering in\n",
        "crystals. Presently, we support only two materials: Silicon ('Si'), and\n",
        "Germanium ('Ge'). By default, this object assumes the dark matter halo to be\n",
        "the Standard Halo Model (SHM) with \"conventional\" parameter values:\n",
        "> v_0 = 220 km/s, the circular velocity\n",
        ">\n",
        "> v_E = 232 km/s, the velocity of the earth in the galactic frame\n",
        ">\n",
        "> v_esc = 544 km/s, the local escape velocity\n",
        "\n",
        "Crystal_DMe will accept different inputs for standard velocity distributions\n",
        "(vdfs), 'shm' is the SHM, 'tsa' is the Tsallis model, and 'msw' is the\n",
        "Mao-Strigari-Weschler Empirical model\n",
        "([arXiv:1210.2721](https://arxiv.org/abs/1210.2721)).\n",
        "\n",
        "Let's begin by initializing a Silicon detector:\n"
      ]
    },
    {
      "cell_type": "code",
      "execution_count": 2,
      "metadata": {
        "collapsed": true,
        "jupyter": {
          "outputs_hidden": false,
          "source_hidden": false
        },
        "nteract": {
          "transient": {
            "deleting": false
          }
        }
      },
      "outputs": [],
      "source": [
        "\n",
        "from pyQEdark.crystaldme import Crystal_DMe\n",
        "Si_Crystal = Crystal_DMe('Si')\n"
      ]
    },
    {
      "cell_type": "markdown",
      "metadata": {
        "nteract": {
          "transient": {
            "deleting": false
          }
        }
      },
      "source": [
        "\n",
        "Now, we can change the parameters by using the set_params method. The\n",
        "parameters that can be changed are:\n",
        "\n",
        "'vdf' : The velocity distribution function code ('shm', 'tsa', or 'msw')\n",
        "\n",
        "'vparams' : A list or array of parameters for the vdf, [v0, vE, vesc(, p)],\n",
        "where p is the p parameter from the empirical model. v0, vE, and vesc must\n",
        "be in natural units.\n",
        "\n",
        "'rho_x' : The local dark matter density. Must be in natural units.\n",
        "\n",
        "'sig_test' : The total test cross-section to use when calculating the rate.\n",
        "\n",
        "'FDMn' : The power of (1/q) in the dark matter form factor. FDMn = 0 corresponds\n",
        "to a contact interaction, while FDMn = 2 corresponds to a light mediator.\n",
        "\n",
        "'interp' : Sets whether to interpolate the eta function (eta = <1/v>). This\n",
        "speeds up calculating rates in exchange for a loss in accuracy. This parameter\n",
        "does not affect the SHM, as it has an analytic eta function.\n",
        "\n",
        "Let's change the vdf to the Tsallis model, with updated parameters:\n"
      ]
    },
    {
      "cell_type": "code",
      "execution_count": 3,
      "metadata": {
        "collapsed": true,
        "jupyter": {
          "outputs_hidden": false,
          "source_hidden": false
        },
        "nteract": {
          "transient": {
            "deleting": false
          }
        }
      },
      "outputs": [],
      "source": [
        "\n",
        "from pyQEdark.vdfparams.nat import v0new, vEfid, vescnew\n",
        "from pyQEdark import c_light, hbar\n",
        "\n",
        "rho_corr = 1e15 * c_light**3 * hbar**3 # ev^4 / (GeV / cm^3)\n",
        "rx_old = .4 * rho_corr # (GeV / cm^3) * ( ev^4 / (GeV / cm^3) ) -> eV^4\n",
        "rx_new = .46 * rho_corr # eV^4\n",
        "\n",
        "Si_Crystal.set_params(vdf='tsa', vparams=[v0new, vEfid, vescnew], rho_x=rx_new)\n"
      ]
    },
    {
      "cell_type": "markdown",
      "metadata": {
        "nteract": {
          "transient": {
            "deleting": false
          }
        }
      },
      "source": [
        "\n",
        "We can also pass a custom vdf or a custom eta function, however if passing\n",
        "a custom vdf, you must also specify vE and vesc for the integration limits.\n",
        "If you choose not to do so, the program will default to vE = 232 km/s and\n",
        "vesc = 544 km/s.\n",
        "\n",
        "Using a vdf:\n"
      ]
    },
    {
      "cell_type": "code",
      "execution_count": 4,
      "metadata": {
        "collapsed": true,
        "jupyter": {
          "outputs_hidden": false,
          "source_hidden": false
        },
        "nteract": {
          "transient": {
            "deleting": false
          }
        }
      },
      "outputs": [],
      "source": [
        "\n",
        "from pyQEdark.vdfparams.nat import v0fid, vEfid, vescfid\n",
        "from pyQEdark.vdfs import f_SHM\n",
        "\n",
        "my_vdf = f_SHM([v0fid, vEfid, vescnew])\n",
        "my_vE = vEfid\n",
        "my_vesc = vescfid\n",
        "\n",
        "Si_Crystal.set_params(vdf=my_vdf, vE=my_vE, vesc=my_vesc)\n"
      ]
    },
    {
      "cell_type": "markdown",
      "metadata": {
        "nteract": {
          "transient": {
            "deleting": false
          }
        }
      },
      "source": [
        "\n",
        "Using an eta function:\n"
      ]
    },
    {
      "cell_type": "code",
      "execution_count": 5,
      "metadata": {
        "collapsed": true,
        "jupyter": {
          "outputs_hidden": false,
          "source_hidden": false
        },
        "nteract": {
          "transient": {
            "deleting": false
          }
        }
      },
      "outputs": [],
      "source": [
        "\n",
        "from pyQEdark.vdfparams.nat import v0fid, vEfid, vescfid\n",
        "from pyQEdark.etas import etaSHM\n",
        "\n",
        "my_eta = etaSHM([v0fid, vEfid, vescfid])\n",
        "\n",
        "Si_Crystal.set_params(eta=my_eta)\n"
      ]
    },
    {
      "cell_type": "markdown",
      "metadata": {
        "nteract": {
          "transient": {
            "deleting": false
          }
        }
      },
      "source": [
        "\n",
        "Now that we've set up our crystal, we can calculate rates and cross-sections!\n"
      ]
    },
    {
      "cell_type": "code",
      "execution_count": 6,
      "metadata": {
        "collapsed": true,
        "jupyter": {
          "outputs_hidden": false,
          "source_hidden": false
        },
        "nteract": {
          "transient": {
            "deleting": false
          }
        }
      },
      "outputs": [],
      "source": [
        "\n",
        "mX1 = 10e6 # eV\n",
        "My_Rates = Si_Crystal.Rate(mX1)\n",
        "\n",
        "Ne = 1\n",
        "exposure = 1 # kgy, the only non-natural units parameter\n",
        "mX_min = 6e5 # eV\n",
        "mX_max = 1e9 # eV\n",
        "N_mX = 100 # number of mx to calculate\n",
        "mX2 = np.logspace(np.log10(mX_min), np.log10(mX_max), N_mX)\n",
        "\n",
        "My_Xsec = Si_Crystal.sig_min(mX2, exposure, Ne)\n"
      ]
    },
    {
      "cell_type": "markdown",
      "metadata": {
        "nteract": {
          "transient": {
            "deleting": false
          }
        }
      },
      "source": [
        "\n",
        "Above, we've used the methods Rate and sig_min. Rate calculates the rates\n",
        "binned by the number of electrons. You can optionally pass Ne_min and Ne_max\n",
        "(or just a list of Ne as Ne=list) if you wish to plot a different range of\n",
        "Ne. You can also pass binned=False to sum all bins. sig_min calculates the\n",
        "minimum cross-section for a single Ne. This also has an optional parameter\n",
        "N_event, which sets the number of events you want to consider, and out_unit\n",
        "which can be set to out_unit='m' if you want the output in meters instead of\n",
        "centimeters.\n"
      ]
    },
    {
      "cell_type": "code",
      "execution_count": 7,
      "metadata": {
        "collapsed": true,
        "jupyter": {
          "outputs_hidden": false,
          "source_hidden": false
        },
        "nteract": {
          "transient": {
            "deleting": false
          }
        }
      },
      "outputs": [],
      "source": [
        "\n",
        "My_Rates2 = Si_Crystal.Rate(mX1, Ne=[1,2,3], binned=False)\n",
        "My_Xsec2 = Si_Crystal.sig_min(mX2, exposure, Ne, N_event=3.6, out_unit='m')\n"
      ]
    },
    {
      "cell_type": "markdown",
      "metadata": {
        "nteract": {
          "transient": {
            "deleting": false
          }
        }
      },
      "source": [
        "\n",
        "Finally, we can make some simple plots:\n"
      ]
    },
    {
      "cell_type": "code",
      "execution_count": 8,
      "metadata": {
        "collapsed": true,
        "jupyter": {
          "outputs_hidden": false,
          "source_hidden": false
        },
        "nteract": {
          "transient": {
            "deleting": false
          }
        }
      },
      "outputs": [
        {
          "name": "stderr",
          "output_type": "stream",
          "text": [
            "/tmp/ipykernel_18791/3117005934.py:3: UserWarning: cmr10 font should ideally be used with mathtext, set axes.formatter.use_mathtext to True\n",
            "  plt.hist(E_vals[:-1], E_vals, weights=My_Rates, lw=1., histtype='step')\n"
          ]
        },
        {
          "data": {
            "image/png": "[encoded data removed]",
            "text/plain": [
              "<Figure size 640x480 with 1 Axes>"
            ]
          },
          "metadata": {},
          "output_type": "display_data"
        }
      ],
      "source": [
        "\n",
        "fig1 = plt.figure()\n",
        "E_vals = Si_Crystal.get_evals()\n",
        "plt.hist(E_vals[:-1], E_vals, weights=My_Rates, lw=1., histtype='step')\n",
        "plt.yscale('log')\n",
        "plt.xlim((E_vals[0], E_vals[-1]))\n",
        "plt.xlabel(r'$E_e$ [eV]')\n",
        "plt.ylabel('Rate [\\# / kgy]')\n",
        "plt.title(r'Rate, $m_{\\chi}=10$ MeV, $F_{DM}=1$')\n",
        "plt.show()\n"
      ]
    },
    {
      "cell_type": "code",
      "execution_count": 9,
      "metadata": {
        "collapsed": true,
        "jupyter": {
          "outputs_hidden": false,
          "source_hidden": false
        },
        "nteract": {
          "transient": {
            "deleting": false
          }
        }
      },
      "outputs": [
        {
          "name": "stderr",
          "output_type": "stream",
          "text": [
            "/tmp/ipykernel_18791/3013621640.py:2: UserWarning: cmr10 font should ideally be used with mathtext, set axes.formatter.use_mathtext to True\n",
            "  plt.plot(mX2*1e-6, My_Xsec)\n"
          ]
        },
        {
          "data": {
            "image/png": "[encoded data removed]",
            "text/plain": [
              "<Figure size 640x480 with 1 Axes>"
            ]
          },
          "metadata": {},
          "output_type": "display_data"
        }
      ],
      "source": [
        "\n",
        "fig2 = plt.figure()\n",
        "plt.plot(mX2*1e-6, My_Xsec)\n",
        "plt.xscale('log')\n",
        "plt.yscale('log')\n",
        "plt.xlabel(r'$m_{\\chi}$ [MeV]')\n",
        "plt.ylabel(r'$\\bar{\\sigma}_e$ [cm$^2$]')\n",
        "plt.title(r'Min. Cross-Section, SHM, $F_{DM}=1$')\n",
        "plt.show()"
      ]
    }
  ],
  "metadata": {
    "kernelspec": {
      "argv": [
        "/home/aria/anaconda3/bin/python",
        "-m",
        "ipykernel_launcher",
        "-f",
        "{connection_file}"
      ],
      "display_name": "Python 3",
      "language": "python",
      "name": "python3"
    },
    "language_info": {
      "codemirror_mode": {
        "name": "ipython",
        "version": 3
      },
      "file_extension": ".py",
      "mimetype": "text/x-python",
      "name": "python",
      "nbconvert_exporter": "python",
      "pygments_lexer": "ipython3",
      "version": "3.9.12"
    }
  },
  "nbformat": 4,
  "nbformat_minor": 0
}
